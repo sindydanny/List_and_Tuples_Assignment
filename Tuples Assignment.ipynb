{
 "cells": [
  {
   "cell_type": "markdown",
   "id": "1ac57b67",
   "metadata": {},
   "source": [
    "###  1. Write a python prgm to create tuple"
   ]
  },
  {
   "cell_type": "code",
   "execution_count": 2,
   "id": "a789c090",
   "metadata": {},
   "outputs": [
    {
     "name": "stdout",
     "output_type": "stream",
     "text": [
      "()\n",
      "<class 'tuple'>\n"
     ]
    }
   ],
   "source": [
    "T = ()\n",
    "print(T)\n",
    "print(type(T))"
   ]
  },
  {
   "cell_type": "markdown",
   "id": "7320497c",
   "metadata": {},
   "source": [
    "###  2.Write a Python program to create a tuple with different data types:"
   ]
  },
  {
   "cell_type": "code",
   "execution_count": 3,
   "id": "e01b1b5a",
   "metadata": {},
   "outputs": [
    {
     "name": "stdout",
     "output_type": "stream",
     "text": [
      "('Tutor Joes', True, 'T', 25, 3.15)\n"
     ]
    }
   ],
   "source": [
    "T = ('Tutor Joes', True,'T',25,3.15)\n",
    "print(T)"
   ]
  },
  {
   "cell_type": "markdown",
   "id": "e80bcf41",
   "metadata": {},
   "source": [
    "###  3.Write a Python program to create a tuple with numbers and print one item:"
   ]
  },
  {
   "cell_type": "code",
   "execution_count": 4,
   "id": "931ec736",
   "metadata": {},
   "outputs": [
    {
     "name": "stdout",
     "output_type": "stream",
     "text": [
      "30\n",
      "<class 'tuple'>\n"
     ]
    }
   ],
   "source": [
    "T = (10,20,30,40,50)\n",
    "print(T[2])\n",
    "print(type(T))"
   ]
  },
  {
   "cell_type": "markdown",
   "id": "14320769",
   "metadata": {},
   "source": [
    "###  4. Write a Python program to unpack a tuple into several variables:"
   ]
  },
  {
   "cell_type": "code",
   "execution_count": 5,
   "id": "9bf2d6d2",
   "metadata": {},
   "outputs": [
    {
     "name": "stdout",
     "output_type": "stream",
     "text": [
      "a =  2\n",
      "b =  4\n",
      "c =  6\n",
      "T =  (2, 4, 6)\n"
     ]
    }
   ],
   "source": [
    "T = (2,4,6)\n",
    "a,b,c = T\n",
    "print('a = ',a)\n",
    "print('b = ',b)\n",
    "print('c = ',c)\n",
    "print(\"T = \",T)"
   ]
  },
  {
   "cell_type": "markdown",
   "id": "4057c59d",
   "metadata": {},
   "source": [
    "###  5.Write a Python program to add an item to a tuple:"
   ]
  },
  {
   "cell_type": "code",
   "execution_count": 7,
   "id": "0e6c2e5e",
   "metadata": {},
   "outputs": [
    {
     "name": "stdout",
     "output_type": "stream",
     "text": [
      "(10, 40, 50, 70, 90, 20, 30)\n"
     ]
    }
   ],
   "source": [
    "T=(10,40,50,70,90)\n",
    "T = T + (20,30)\n",
    "print(T)"
   ]
  },
  {
   "cell_type": "markdown",
   "id": "2d4d119f",
   "metadata": {},
   "source": [
    "###  6.Write a Python program to convert a tuple to a string:"
   ]
  },
  {
   "cell_type": "code",
   "execution_count": 8,
   "id": "fa50c98c",
   "metadata": {},
   "outputs": [
    {
     "name": "stdout",
     "output_type": "stream",
     "text": [
      "Tutor Joes\n"
     ]
    }
   ],
   "source": [
    "T = ('T', 'u', 't', 'o', 'r', ' ', 'J', 'o', 'e', 's')\n",
    "Str = ''.join(T)\n",
    "print(Str)"
   ]
  },
  {
   "cell_type": "markdown",
   "id": "cb89ef86",
   "metadata": {},
   "source": [
    "###  7.Write a Python program to get the 4th element and 4th element from the last of a tuple:"
   ]
  },
  {
   "cell_type": "code",
   "execution_count": 10,
   "id": "b7949d82",
   "metadata": {},
   "outputs": [
    {
     "name": "stdout",
     "output_type": "stream",
     "text": [
      "4th element from Tuple :  e\n",
      "4th element from last tuple :  [-4]\n"
     ]
    }
   ],
   "source": [
    "T = ('w', 3, 'r', 'e', 's', 'o', 'u', 'r', 'c', 'e')\n",
    "ele1= T[3]\n",
    "ele2 = [-4]\n",
    "print(\"4th element from Tuple : \",ele1)\n",
    "print(\"4th element from last tuple : \",ele2)"
   ]
  },
  {
   "cell_type": "markdown",
   "id": "715011d5",
   "metadata": {},
   "source": [
    "###  8.Write a Python program to create a copy of a tuple:"
   ]
  },
  {
   "cell_type": "code",
   "execution_count": 11,
   "id": "6983702d",
   "metadata": {},
   "outputs": [
    {
     "name": "stdout",
     "output_type": "stream",
     "text": [
      "Copy tuple copy_T :  ('Tutor', 'J', 23, 56.67, [23, 12], True)\n"
     ]
    }
   ],
   "source": [
    "T = (\"Tutor\", 'J', 23, 56.67, [23, 12], True)\n",
    "copy_T = T[:]\n",
    "print(\"Copy tuple copy_T : \",copy_T)"
   ]
  },
  {
   "cell_type": "markdown",
   "id": "1c1762d6",
   "metadata": {},
   "source": [
    "###  9.Write a Python program to find the number of repeated items in a tuple:"
   ]
  },
  {
   "cell_type": "code",
   "execution_count": 15,
   "id": "38e98ce5",
   "metadata": {},
   "outputs": [
    {
     "name": "stdout",
     "output_type": "stream",
     "text": [
      "Repeated items of a tuple :  3\n"
     ]
    }
   ],
   "source": [
    "T = (2, 34, 45, 6, 7, 2, 4, 5, 78, 34, 2)\n",
    "k = 2\n",
    "count = T.count(k)\n",
    "print(\"Repeated items of a tuple : \",count)"
   ]
  },
  {
   "cell_type": "markdown",
   "id": "894fba4e",
   "metadata": {},
   "source": [
    "###  10.Write a Python program to check whether an element exists within a tuple:"
   ]
  },
  {
   "cell_type": "code",
   "execution_count": 18,
   "id": "fd930b5b",
   "metadata": {},
   "outputs": [
    {
     "name": "stdout",
     "output_type": "stream",
     "text": [
      "Enter element to find in T : s\n",
      "Elemen s  exist in Tuple\n"
     ]
    }
   ],
   "source": [
    "T = ('T', 'u', 't', 'o', 'r', ' ', 'J', 'o', 'e', 's', 8)\n",
    "ele = input(\"Enter element to find in T : \")\n",
    "if ele in T:\n",
    "    print(\"Elemen\",ele,\" exist in Tuple\")\n",
    "else:\n",
    "    print(\"Element doesn't exit\")\n"
   ]
  },
  {
   "cell_type": "markdown",
   "id": "1b30a165",
   "metadata": {},
   "source": [
    "###  11.Write a Python program to convert a list to a tuple:"
   ]
  },
  {
   "cell_type": "code",
   "execution_count": 21,
   "id": "d2d4e8d5",
   "metadata": {},
   "outputs": [
    {
     "name": "stdout",
     "output_type": "stream",
     "text": [
      "List :  [12, 45, 87, 89, 4]\n",
      "<class 'list'>\n",
      "Tuple (12, 45, 87, 89, 4)\n",
      "<class 'tuple'>\n"
     ]
    }
   ],
   "source": [
    "my_list = [12,45,87,89,4]\n",
    "print(\"List : \", my_list)\n",
    "print(type(my_list))\n",
    "T = tuple(my_list)\n",
    "print(\"Tuple\",T)\n",
    "print(type(T))"
   ]
  },
  {
   "cell_type": "markdown",
   "id": "67187ef2",
   "metadata": {},
   "source": [
    "###  12.Write a Python program to remove an item from a tuple:"
   ]
  },
  {
   "cell_type": "code",
   "execution_count": 23,
   "id": "da557ce5",
   "metadata": {},
   "outputs": [
    {
     "name": "stdout",
     "output_type": "stream",
     "text": [
      "Enter the item to be removed : 7\n",
      "(23, 45, 56, 68, 10, 45, 9)\n"
     ]
    }
   ],
   "source": [
    "T = (23, 45, 56, 68, 10, 45, 7, 9)\n",
    "r = int(input(\"Enter the item to be removed : \"))\n",
    "my_list = list(T)\n",
    "my_list.remove(r)\n",
    "T = tuple(my_list)\n",
    "print(T)"
   ]
  },
  {
   "cell_type": "markdown",
   "id": "dd73a4ed",
   "metadata": {},
   "source": [
    "###  13.Write a Python program to slice a tuple:"
   ]
  },
  {
   "cell_type": "code",
   "execution_count": 25,
   "id": "9e3ba9d0",
   "metadata": {},
   "outputs": [
    {
     "name": "stdout",
     "output_type": "stream",
     "text": [
      "(10, 20, 30, 40, 50, 60, 70, 80, 90, 100)\n",
      "(40, 50, 60, 70, 80)\n"
     ]
    }
   ],
   "source": [
    "T = (10, 20, 30, 40, 50, 60, 70, 80, 90, 100)\n",
    "slice_T = T[3:8]\n",
    "print(T)\n",
    "print(slice_T)\n"
   ]
  },
  {
   "cell_type": "markdown",
   "id": "4ca716f5",
   "metadata": {},
   "source": [
    "###  14.Write a Python program to find the index of an item in a tuple:"
   ]
  },
  {
   "cell_type": "code",
   "execution_count": 29,
   "id": "02beb46e",
   "metadata": {},
   "outputs": [
    {
     "name": "stdout",
     "output_type": "stream",
     "text": [
      "Enter  the number from the tuple  : 89\n",
      "Item : 4\n"
     ]
    }
   ],
   "source": [
    "T = (23, 45, 67, 78, 89, 90, 34, 56)\n",
    "ind = int(input(\"Enter  the number from the tuple  : \"))\n",
    "print(\"Item :\", T.index(ind))"
   ]
  },
  {
   "cell_type": "markdown",
   "id": "6e332328",
   "metadata": {},
   "source": [
    "###  15.Write a Python program to find the length of a tuple:"
   ]
  },
  {
   "cell_type": "code",
   "execution_count": 30,
   "id": "8d1cb434",
   "metadata": {},
   "outputs": [
    {
     "name": "stdout",
     "output_type": "stream",
     "text": [
      "Length of tuple :  6\n"
     ]
    }
   ],
   "source": [
    "T = (\"Lion\", \"Cat\", \"Dog\", \"Panda\", \"Tiger\", \"Fox\")\n",
    "print(\"Length of tuple : \", len(T))"
   ]
  },
  {
   "cell_type": "markdown",
   "id": "a97696ab",
   "metadata": {},
   "source": [
    "###  16.Write a Python program to convert a tuple to a dictionary"
   ]
  },
  {
   "cell_type": "code",
   "execution_count": 31,
   "id": "af5077e1",
   "metadata": {},
   "outputs": [
    {
     "name": "stdout",
     "output_type": "stream",
     "text": [
      "{'Name': 'Ram', 'Age': 23, 'City': 'Salem', 'Mark': 422}\n"
     ]
    }
   ],
   "source": [
    "T = ((\"Name\", \"Ram\"), (\"Age\", 23), (\"City\", \"Salem\"), (\"Mark\", 422))\n",
    "my_dict = dict(T)\n",
    "print(my_dict)"
   ]
  },
  {
   "cell_type": "markdown",
   "id": "ee2235b7",
   "metadata": {},
   "source": [
    "###  17.Write a Python program to unzip a list of tuples into individual lists:"
   ]
  },
  {
   "cell_type": "code",
   "execution_count": 32,
   "id": "18931aee",
   "metadata": {},
   "outputs": [
    {
     "name": "stdout",
     "output_type": "stream",
     "text": [
      "[(10, 30), (60, 90), (20, 50)]\n",
      "[(10, 60, 20), (30, 90, 50)]\n"
     ]
    }
   ],
   "source": [
    "my_list = [(10, 30), (60, 90), (20, 50)]\n",
    "unzip = list(zip(*my_list))\n",
    "print(my_list)\n",
    "print(unzip)"
   ]
  },
  {
   "cell_type": "markdown",
   "id": "0e1d806d",
   "metadata": {},
   "source": [
    "###  18. Write a Python program to reverse a tuple:"
   ]
  },
  {
   "cell_type": "code",
   "execution_count": 33,
   "id": "59c6d2b8",
   "metadata": {},
   "outputs": [
    {
     "name": "stdout",
     "output_type": "stream",
     "text": [
      "Before Reverse: (23, 45, 67, 78, 89, 90, 34, 56)\n",
      "After Reverse: (56, 34, 90, 89, 78, 67, 45, 23)\n"
     ]
    }
   ],
   "source": [
    "T = (23, 45, 67, 78, 89, 90, 34, 56)\n",
    "reverse_T = T[::-1]\n",
    "print(\"Before Reverse:\", T)\n",
    "print(\"After Reverse:\", reverse_T)"
   ]
  },
  {
   "cell_type": "markdown",
   "id": "978adbce",
   "metadata": {},
   "source": [
    "###  19.Write a Python program to convert a list of tuples into a dictionary:"
   ]
  },
  {
   "cell_type": "code",
   "execution_count": 35,
   "id": "176956f7",
   "metadata": {},
   "outputs": [
    {
     "name": "stdout",
     "output_type": "stream",
     "text": [
      "{'Name': ['Ram', 'Pooja'], 'Age': [21, 23], 'Gender': ['Male', 'Female']}\n"
     ]
    }
   ],
   "source": [
    "my_list = [(\"Name\", \"Ram\"), (\"Name\", \"Pooja\"), (\"Age\", 21), (\"Gender\", \"Male\"), (\"Age\", 23), (\"Gender\", \"Female\")]\n",
    "my_dict = {}\n",
    "for key, value in my_list:\n",
    "    if key in my_dict:\n",
    "        my_dict[key].append(value)\n",
    "    else:\n",
    "        my_dict[key] = [value]\n",
    "print(my_dict)"
   ]
  },
  {
   "cell_type": "markdown",
   "id": "6774735c",
   "metadata": {},
   "source": [
    "###  20.Write a Python program to print a tuple with string formatting"
   ]
  },
  {
   "cell_type": "code",
   "execution_count": 36,
   "id": "9582980b",
   "metadata": {},
   "outputs": [
    {
     "name": "stdout",
     "output_type": "stream",
     "text": [
      "Fruits ('watermelons', 'strawberries', 'mangoes', 'bananas', 'grapefruits', 'oranges', 'apples', 'pears')\n"
     ]
    }
   ],
   "source": [
    "T = (\"watermelons\", \"strawberries\", \"mangoes\", \"bananas\", \"grapefruits\", \"oranges\", \"apples\", \"pears\")\n",
    "\n",
    "print(\"Fruits\", T)\n"
   ]
  },
  {
   "cell_type": "markdown",
   "id": "c985221d",
   "metadata": {},
   "source": [
    "###  21.Create a tuple with a single item (23) and print its type:"
   ]
  },
  {
   "cell_type": "code",
   "execution_count": 40,
   "id": "366a354b",
   "metadata": {},
   "outputs": [
    {
     "name": "stdout",
     "output_type": "stream",
     "text": [
      "Type = <class 'tuple'>\n"
     ]
    }
   ],
   "source": [
    "T = (23,)\n",
    "print(\"Type =\", type(T))"
   ]
  },
  {
   "cell_type": "markdown",
   "id": "bb05c6a9",
   "metadata": {},
   "source": [
    "###  22. Unpack a tuple into 5 variables:"
   ]
  },
  {
   "cell_type": "code",
   "execution_count": 41,
   "id": "690c5ff1",
   "metadata": {},
   "outputs": [
    {
     "name": "stdout",
     "output_type": "stream",
     "text": [
      "Tuple = (11, 22, 333, 44, 55)\n",
      "11\n",
      "22\n",
      "333\n",
      "44\n",
      "55\n"
     ]
    }
   ],
   "source": [
    "T = (11, 22, 333, 44, 55)\n",
    "# Unpacking the tuple into 5 variables\n",
    "a, b, c, d, e = T\n",
    "print(\"Tuple =\", T)\n",
    "print(a)\n",
    "print(b)\n",
    "print(c)\n",
    "print(d)\n",
    "print(e)"
   ]
  },
  {
   "cell_type": "markdown",
   "id": "3dca1cd6",
   "metadata": {},
   "source": [
    "###  23.Swap two tuples in Python:"
   ]
  },
  {
   "cell_type": "code",
   "execution_count": 42,
   "id": "742aac8b",
   "metadata": {},
   "outputs": [
    {
     "name": "stdout",
     "output_type": "stream",
     "text": [
      "Before Swap A: (10,)\n",
      "Before Swap B: (20,)\n",
      "After Swap A: 20\n",
      "After Swap B: 10\n"
     ]
    }
   ],
   "source": [
    "T1 = (10,)\n",
    "T2 = (20,)\n",
    "print(\"Before Swap A:\", T1)\n",
    "print(\"Before Swap B:\", T2)\n",
    "\n",
    "T1,T2 = T2,T1 \n",
    "\n",
    "print(\"After Swap A:\", T1[0])\n",
    "print(\"After Swap B:\", T2[0])"
   ]
  },
  {
   "cell_type": "markdown",
   "id": "7981bef8",
   "metadata": {},
   "source": [
    "###  24. Copy specific elements from one tuple to a new tuple:"
   ]
  },
  {
   "cell_type": "code",
   "execution_count": 43,
   "id": "140fe8da",
   "metadata": {},
   "outputs": [
    {
     "name": "stdout",
     "output_type": "stream",
     "text": [
      "(10, 20, 30, 40, 50, 60, 70, 80, 90, 100)\n",
      "(30, 40, 50, 60, 70, 80)\n"
     ]
    }
   ],
   "source": [
    "T = (10, 20, 30, 40, 50, 60, 70, 80, 90, 100)\n",
    "new_T = T[2:8]\n",
    "print(T)\n",
    "print(new_T)"
   ]
  },
  {
   "cell_type": "markdown",
   "id": "15f82617",
   "metadata": {},
   "source": [
    "###  25.Modify a tuple"
   ]
  },
  {
   "cell_type": "code",
   "execution_count": 44,
   "id": "e0d691f7",
   "metadata": {},
   "outputs": [
    {
     "name": "stdout",
     "output_type": "stream",
     "text": [
      "(10, 20, 30, 40, 50)\n",
      "(10, 20, 33, 40, 50)\n"
     ]
    }
   ],
   "source": [
    "T = (10, 20, 30, 40, 50)\n",
    "myt = T[:2] + (33,) + T[3:]\n",
    "print(T)\n",
    "print(myt)"
   ]
  },
  {
   "cell_type": "markdown",
   "id": "d296ce1c",
   "metadata": {},
   "source": [
    "### 26.Sort a tuple of tuples by the second item"
   ]
  },
  {
   "cell_type": "code",
   "execution_count": 49,
   "id": "f449e89a",
   "metadata": {},
   "outputs": [
    {
     "name": "stdout",
     "output_type": "stream",
     "text": [
      "(('a', 53), ('b', 37), ('c', 23), ('d', 1), ('e', 18))\n",
      "[('d', 1), ('e', 18), ('c', 23), ('b', 37), ('a', 53)]\n",
      "[(20, 'a'), (89, 'g'), (101, 'j'), (0, 'l'), (7, 'w')]\n"
     ]
    }
   ],
   "source": [
    "T = (('a', 53), ('b', 37), ('c', 23), ('d', 1), ('e', 18))\n",
    "T2 = ((101,'j'),(20,'a'),(89,'g'),(7,'w'),(0,'l'))\n",
    "sorted_tuple = sorted(T, key=lambda x: x[1])\n",
    "sort_T2 = sorted(T2,key=lambda x:x[1])\n",
    "print(T)\n",
    "print(sorted_tuple)\n",
    "print(sort_T2)\n"
   ]
  },
  {
   "cell_type": "code",
   "execution_count": null,
   "id": "fb1f3958",
   "metadata": {},
   "outputs": [],
   "source": []
  },
  {
   "cell_type": "markdown",
   "id": "f2ff4ca4",
   "metadata": {},
   "source": [
    "### 27.Count the number of occurrences of item 30 in a tuple:"
   ]
  },
  {
   "cell_type": "code",
   "execution_count": 47,
   "id": "67293b8b",
   "metadata": {},
   "outputs": [
    {
     "name": "stdout",
     "output_type": "stream",
     "text": [
      "(30, 50, 10, 30, 70, 50, 30)\n",
      "Number of Counts 30: 3\n",
      "Number of Counts 50: 2\n"
     ]
    }
   ],
   "source": [
    "T = (30, 50, 10, 30, 70, 50, 30)\n",
    "count_30 = T.count(30)\n",
    "count_50 = T.count(50)\n",
    "print(T)\n",
    "print(\"Number of Counts 30:\", count_30)\n",
    "print(\"Number of Counts 50:\", count_50)"
   ]
  },
  {
   "cell_type": "markdown",
   "id": "0b4c8717",
   "metadata": {},
   "source": [
    "### 28.Compute element-wise sum of given tuples:"
   ]
  },
  {
   "cell_type": "code",
   "execution_count": 1,
   "id": "f5623f5c",
   "metadata": {},
   "outputs": [
    {
     "name": "stdout",
     "output_type": "stream",
     "text": [
      "A = (2, 5, 8)\n",
      "B = (6, 5, 1)\n",
      "C = (1, 4, 7)\n",
      "D = (3, 7, 2)\n",
      "Sum of Elements = (12, 21, 18)\n"
     ]
    }
   ],
   "source": [
    "A = (2, 5, 8)\n",
    "B = (6, 5, 1)\n",
    "C = (1, 4, 7)\n",
    "D = (3, 7, 2)\n",
    "\n",
    "sum_ele = tuple(sum(x) for x in zip(A, B, C, D))\n",
    "print(\"A =\", A)\n",
    "print(\"B =\", B)\n",
    "print(\"C =\", C)\n",
    "print(\"D =\", D)\n",
    "print(\"Sum of Elements =\", sum_ele)\n"
   ]
  },
  {
   "cell_type": "markdown",
   "id": "16cb2f1e",
   "metadata": {},
   "source": [
    "### 29: Sort a tuple by its float element"
   ]
  },
  {
   "cell_type": "code",
   "execution_count": 2,
   "id": "68562093",
   "metadata": {},
   "outputs": [
    {
     "name": "stdout",
     "output_type": "stream",
     "text": [
      "[('Jeeva', '91.40'), ('Ram', '89.20'), ('Pooja', '84.40'), ('Siva', '76.45'), ('Tara', '68.43')]\n"
     ]
    }
   ],
   "source": [
    "data = [('Ram', '89.20'), ('Siva', '76.45'), ('Pooja', '84.40'), ('Tara', '68.43'), ('Jeeva', '91.40')]\n",
    "\n",
    "s_data = sorted(data,key=lambda x:float(x[1]), reverse =True)\n",
    "print(s_data)\n"
   ]
  },
  {
   "cell_type": "markdown",
   "id": "4d688c58",
   "metadata": {},
   "source": [
    "### 30: Replace the last value of tuples in a list"
   ]
  },
  {
   "cell_type": "code",
   "execution_count": 9,
   "id": "3793189c",
   "metadata": {},
   "outputs": [
    {
     "name": "stdout",
     "output_type": "stream",
     "text": [
      "[[(5, 2, 10)], [(4, 7, 10)], [(8, 9, 10)]]\n"
     ]
    }
   ],
   "source": [
    "data = [(5, 2, 3), (4, 7, 6), (8, 9, 6)]\n",
    "value = 10\n",
    "new_data=[]\n",
    "for t in data:\n",
    "    new_data.append([(t[:-1])+(value,)])\n",
    "print(replaced_data)"
   ]
  },
  {
   "cell_type": "code",
   "execution_count": null,
   "id": "8d202926",
   "metadata": {},
   "outputs": [],
   "source": []
  },
  {
   "cell_type": "markdown",
   "id": "a5999024",
   "metadata": {},
   "source": [
    "### 31: Extract tuples having K digit elements"
   ]
  },
  {
   "cell_type": "code",
   "execution_count": 20,
   "id": "757d46a1",
   "metadata": {},
   "outputs": [
    {
     "name": "stdout",
     "output_type": "stream",
     "text": [
      "[(47, 23), (22, 53)]\n"
     ]
    }
   ],
   "source": [
    "data = [(47, 23), (3, 78), (22, 53), (121, 45), (7,)]\n",
    "K = 2\n",
    "r=[]\n",
    "for t in data:\n",
    "    if all(len(str(e)) == K for e in t):\n",
    "        r.append(t)\n",
    "\n",
    "print(r)"
   ]
  },
  {
   "cell_type": "markdown",
   "id": "05c3da45",
   "metadata": {},
   "source": [
    "### 32: Extract symmetric tuples"
   ]
  },
  {
   "cell_type": "code",
   "execution_count": 21,
   "id": "763a2c29",
   "metadata": {},
   "outputs": [
    {
     "name": "stdout",
     "output_type": "stream",
     "text": [
      "[(18, 23), (2, 9), (9, 2), (23, 18)]\n"
     ]
    }
   ],
   "source": [
    "data = [(18, 23), (2, 9), (7, 6), (9, 2), (10, 2), (23, 18)]\n",
    "sym_tup = []\n",
    "for t in data:\n",
    "    if t[::-1] in data:\n",
    "        sym_tup.append(t)\n",
    "\n",
    "print(sym_tup)\n"
   ]
  },
  {
   "cell_type": "markdown",
   "id": "58e55f16",
   "metadata": {},
   "source": [
    "### 33: Sort tuples by their maximum element"
   ]
  },
  {
   "cell_type": "code",
   "execution_count": 23,
   "id": "21426335",
   "metadata": {},
   "outputs": [
    {
     "name": "stdout",
     "output_type": "stream",
     "text": [
      "[(1, 2), (4, 5, 5, 7), (1, 3, 7, 4), (19, 4, 5, 3)]\n"
     ]
    }
   ],
   "source": [
    "data = [(4, 5, 5, 7), (1, 3, 7, 4), (19, 4, 5, 3), (1, 2)]\n",
    "\n",
    "\n",
    "sorted_data = sorted(data, key=lambda t: max(t))\n",
    "\n",
    "print(sorted_data)\n"
   ]
  },
  {
   "cell_type": "markdown",
   "id": "d07c9404",
   "metadata": {},
   "source": [
    "### 34: Remove nested records from tuple"
   ]
  },
  {
   "cell_type": "code",
   "execution_count": 28,
   "id": "15a833da",
   "metadata": {},
   "outputs": [
    {
     "name": "stdout",
     "output_type": "stream",
     "text": [
      "(10, 20, 40, 70)\n"
     ]
    }
   ],
   "source": [
    "data = (10, 20, (30,), 40, (50, 60), 70)\n",
    "non_tuple_ele =[]\n",
    "for t in data:\n",
    "    if not isinstance(t,tuple):\n",
    "        non_tuple_ele.append(t)\n",
    "\n",
    "#result = tuple(item for item in data if not isinstance(item, tuple))\n",
    "\n",
    "print(result)\n"
   ]
  },
  {
   "cell_type": "markdown",
   "id": "d8dd4268",
   "metadata": {},
   "source": [
    "### 35:Elements Frequency in Mixed Nested Tuple"
   ]
  },
  {
   "cell_type": "code",
   "execution_count": 31,
   "id": "fc3a8edb",
   "metadata": {},
   "outputs": [
    {
     "name": "stdout",
     "output_type": "stream",
     "text": [
      "Elements Frequency: {10: 2, 20: 2, 30: 1, 40: 1, 50: 1, 60: 2, 70: 1}\n"
     ]
    }
   ],
   "source": [
    "data = (10, 20, (20, 10), 30, (40, 50, 60), 60, 70)\n",
    "\n",
    "freq = {}\n",
    "def count_elements(data):\n",
    "    if isinstance(data, tuple):\n",
    "        for t in data:\n",
    "            count_elements(t)\n",
    "    else:\n",
    "        if data in freq:\n",
    "            freq[data] += 1\n",
    "        else:\n",
    "            freq[data] = 1\n",
    "\n",
    "count_elements(data)\n",
    "print(\"Elements Frequency:\", freq)\n"
   ]
  },
  {
   "cell_type": "markdown",
   "id": "25ce5552",
   "metadata": {},
   "source": [
    "### 36: Get unique elements in nested tuple"
   ]
  },
  {
   "cell_type": "code",
   "execution_count": 33,
   "id": "5d68819b",
   "metadata": {},
   "outputs": [
    {
     "name": "stdout",
     "output_type": "stream",
     "text": [
      "Unique Element in Nested Tuples: [{1, 3, 5}, {1, 3, 5}, {1, 3, 5}, {4, 5, 7}, {4, 5, 7}, {4, 5, 7}, {1, 2, 6}, {1, 2, 6}, {1, 2, 6}, {9, 10}, {9, 10}, {10}]\n"
     ]
    }
   ],
   "source": [
    "data = [(1, 3, 5), (4, 5, 7), (1, 2, 6), (10, 9), (10,)]\n",
    "unique_ele=[]\n",
    "for t in data:\n",
    "    for d in t:\n",
    "        unique_ele.append(set(t))\n",
    "\n",
    "print(\"Unique Element in Nested Tuples:\", list(unique_ele))\n"
   ]
  },
  {
   "cell_type": "markdown",
   "id": "49309b1f",
   "metadata": {},
   "source": [
    "### 37: Concatenate tuples to nested tuples "
   ]
  },
  {
   "cell_type": "code",
   "execution_count": 34,
   "id": "4418cfbe",
   "metadata": {},
   "outputs": [
    {
     "name": "stdout",
     "output_type": "stream",
     "text": [
      "Tuples after Concatenating: ((18, 23, 2, 9), (10, 3, 11))\n"
     ]
    }
   ],
   "source": [
    "tuple1 = ((18, 23, 2, 9),)\n",
    "tuple2 = ((10, 3, 11),)\n",
    "\n",
    "\n",
    "concatenated_tuples = tuple1 + tuple2\n",
    "\n",
    "print(\"Tuples after Concatenating:\", concatenated_tuples)\n"
   ]
  },
  {
   "cell_type": "markdown",
   "id": "f0c4ca11",
   "metadata": {},
   "source": [
    "### 38: Sort by Frequency of the second element in Tuple List"
   ]
  },
  {
   "cell_type": "code",
   "execution_count": 35,
   "id": "7ee6e70f",
   "metadata": {},
   "outputs": [
    {
     "name": "stdout",
     "output_type": "stream",
     "text": [
      "Sorted List of tuples: [(2, 7), (3, 7), (2, 5), (8, 7), (6, 5), (9, 8)]\n"
     ]
    }
   ],
   "source": [
    "data = [(2, 7), (3, 7), (2, 5), (8, 7), (6, 5), (9, 8)]\n",
    "\n",
    "sorted_data = sorted(data, key=lambda x: data.count((x[0], x[1])), reverse=True)\n",
    "\n",
    "print(\"Sorted List of tuples:\", sorted_data)\n"
   ]
  },
  {
   "cell_type": "code",
   "execution_count": null,
   "id": "f4acf57a",
   "metadata": {},
   "outputs": [],
   "source": []
  },
  {
   "cell_type": "markdown",
   "id": "813de0b8",
   "metadata": {},
   "source": [
    "### 39: Sort lists in tuple"
   ]
  },
  {
   "cell_type": "code",
   "execution_count": 36,
   "id": "84d700d6",
   "metadata": {},
   "outputs": [
    {
     "name": "stdout",
     "output_type": "stream",
     "text": [
      "([10, 50, 60], [80, 20, 30], [70, 100, 40], (90,))\n"
     ]
    }
   ],
   "source": [
    "data = ([10, 50, 60], [80, 20, 30], [70, 100, 40], (90,))\n",
    "sort= tuple(sorted(data, key=lambda x: sorted(x)))\n",
    "print(sort)"
   ]
  },
  {
   "cell_type": "markdown",
   "id": "fbc453d4",
   "metadata": {},
   "source": [
    "### 40: Order Tuples using an external List"
   ]
  },
  {
   "cell_type": "code",
   "execution_count": 39,
   "id": "438f3da3",
   "metadata": {},
   "outputs": [
    {
     "name": "stdout",
     "output_type": "stream",
     "text": [
      "Ordered Tuple List: [('A', 67), ('B', 68), ('C', 69), ('D', 70)]\n"
     ]
    }
   ],
   "source": [
    "data = [('B', 68), ('D', 70), ('A', 67), ('C', 69)]\n",
    "order_list = ['A', 'B', 'C', 'D']\n",
    "\n",
    "sort= sorted(data, key=lambda x: order_list.index(x[0]))\n",
    "\n",
    "print(\"Ordered Tuple List:\", sort)\n"
   ]
  },
  {
   "cell_type": "markdown",
   "id": "ddf88f8d",
   "metadata": {},
   "source": [
    "### 41: Filter Tuples by Kth element from List"
   ]
  },
  {
   "cell_type": "code",
   "execution_count": 40,
   "id": "595aeeec",
   "metadata": {},
   "outputs": [
    {
     "name": "stdout",
     "output_type": "stream",
     "text": [
      "Filtered tuples: [('D', 70), ('A', 67)]\n"
     ]
    }
   ],
   "source": [
    "data = [('B', 68), ('D', 70), ('A', 67), ('C', 69)]\n",
    "kth_ele = [67, 70, 71, 75]\n",
    "k = 1\n",
    "fill_tup=[]\n",
    "for t in data:\n",
    "    if t[1] in kth_ele:\n",
    "        fill_tup.append(t)\n",
    "#filtered_tuples = [t for t in data if t[1] in kth_elements]\n",
    "\n",
    "print(\"Filtered tuples:\", fill_tup)"
   ]
  },
  {
   "cell_type": "markdown",
   "id": "05b08300",
   "metadata": {},
   "source": [
    "### 42: Closest Pair to Kth index element in Tuple"
   ]
  },
  {
   "cell_type": "code",
   "execution_count": 41,
   "id": "04483c8b",
   "metadata": {},
   "outputs": [
    {
     "name": "stdout",
     "output_type": "stream",
     "text": [
      "Nearest Tuple: (9, 2)\n"
     ]
    }
   ],
   "source": [
    "data = [(23, 18), (9, 2), (2, 3), (9, 18), (23, 2)]\n",
    "new_data = (20, 2)\n",
    "k = 1\n",
    "\n",
    "nearest_tuple = min(data, key=lambda x: abs(x[k] - new_data[k]))\n",
    "\n",
    "print(\"Nearest Tuple:\", nearest_tuple)\n"
   ]
  },
  {
   "cell_type": "markdown",
   "id": "22ac51e5",
   "metadata": {},
   "source": [
    "### 43: Tuple List intersection (Order irrespective)"
   ]
  },
  {
   "cell_type": "code",
   "execution_count": 42,
   "id": "c0772742",
   "metadata": {},
   "outputs": [
    {
     "name": "stdout",
     "output_type": "stream",
     "text": [
      "Intersection: {(3, 4)}\n"
     ]
    }
   ],
   "source": [
    "list1 = [(3, 4), (5, 6), (9, 10), (4, 5)]\n",
    "list2 = [(5, 4), (3, 4), (6, 5), (9, 11)]\n",
    "\n",
    "intersection = set(list1) & set(list2)\n",
    "\n",
    "print(\"Intersection:\", intersection)\n"
   ]
  },
  {
   "cell_type": "markdown",
   "id": "03498816",
   "metadata": {},
   "source": [
    "### 44: Intersection in Tuple Records Data"
   ]
  },
  {
   "cell_type": "code",
   "execution_count": 45,
   "id": "45300b55",
   "metadata": {},
   "outputs": [
    {
     "name": "stdout",
     "output_type": "stream",
     "text": [
      "Intersection of data records:\n",
      " [('D', 68), ('C', 67), ('A', 65), ('D', 68), ('C', 67), ('A', 65), ('D', 68), ('C', 67), ('A', 65)]\n"
     ]
    }
   ],
   "source": [
    "list1 = [('A', 65), ('D', 68), ('B', 66)]\n",
    "list2 = [('D', 68), ('C', 67), ('A', 65)]\n",
    "inter=[]\n",
    "for l in list1:\n",
    "    for l in list2:\n",
    "        inter.append(l)\n",
    "\n",
    "print(\"Intersection of data records:\\n\", inter)\n"
   ]
  },
  {
   "cell_type": "markdown",
   "id": "f45ed07b",
   "metadata": {},
   "source": [
    "### 45: Unique Tuple Frequency (Order Irrespective)"
   ]
  },
  {
   "cell_type": "code",
   "execution_count": 46,
   "id": "2cca1361",
   "metadata": {},
   "outputs": [
    {
     "name": "stdout",
     "output_type": "stream",
     "text": [
      "Unique tuples Frequency: [(1, 2), (3, 4), (5, 6), (4, 3)]\n",
      "Unique tuples Frequency Count: 4\n"
     ]
    }
   ],
   "source": [
    "data = [(3, 4), (1, 2), (4, 3), (5, 6)]\n",
    "\n",
    "\n",
    "unique_tuples = list(set(data))\n",
    "unique_frequency = len(unique_tuples)\n",
    "\n",
    "print(\"Unique tuples Frequency:\", unique_tuples)\n",
    "print(\"Unique tuples Frequency Count:\", unique_frequency)\n"
   ]
  },
  {
   "cell_type": "markdown",
   "id": "0497a310",
   "metadata": {},
   "source": [
    "###  46: Skew Nested Tuple Summation"
   ]
  },
  {
   "cell_type": "code",
   "execution_count": 56,
   "id": "82474edf",
   "metadata": {},
   "outputs": [
    {
     "name": "stdout",
     "output_type": "stream",
     "text": [
      "Summation of 1st positions: 15\n"
     ]
    }
   ],
   "source": [
    "def data_summation(data):\n",
    "    if data is None:\n",
    "        return 0\n",
    "    return data[0] + data_summation(data[1])\n",
    "\n",
    "data = (1, (2, (3, (4, (5, None)))))\n",
    "sum_data = data_summation(data)\n",
    "\n",
    "print(\"Summation of 1st positions:\", sum_data)\n",
    "\n"
   ]
  },
  {
   "cell_type": "markdown",
   "id": "33dad9ff",
   "metadata": {},
   "source": [
    "###  47: Convert Binary tuple to Integer"
   ]
  },
  {
   "cell_type": "code",
   "execution_count": 59,
   "id": "a281867b",
   "metadata": {},
   "outputs": [
    {
     "name": "stdout",
     "output_type": "stream",
     "text": [
      "Binary Tuple: (1, 0, 1, 0)\n",
      "Binary String: 1010\n",
      "Decimal number is: 10\n"
     ]
    }
   ],
   "source": [
    "binary_tuple = (1, 0, 1, 0)\n",
    "binary_string = ''.join(map(str,binary_tuple))\n",
    "\n",
    "decimal_number = int(binary_string, 2)\n",
    "\n",
    "print(\"Binary Tuple:\", binary_tuple)\n",
    "print(\"Binary String:\", binary_string)\n",
    "print(\"Decimal number is:\", decimal_number)\n"
   ]
  },
  {
   "cell_type": "markdown",
   "id": "db3ad354",
   "metadata": {},
   "source": [
    "###  48: Tuple XOR operation"
   ]
  },
  {
   "cell_type": "code",
   "execution_count": 63,
   "id": "a03ad00b",
   "metadata": {},
   "outputs": [
    {
     "name": "stdout",
     "output_type": "stream",
     "text": [
      "XOR tuple: [15, 6, 5, 10]\n"
     ]
    }
   ],
   "source": [
    "tuple1 = (10, 4, 6, 9)\n",
    "tuple2 = (5, 2, 3, 3)\n",
    "xor_tuple=[]\n",
    "for a,b in zip(tuple1, tuple2):\n",
    "    xor_result = a ^ b\n",
    "    xor_tuple.append(xor_result)\n",
    "\n",
    "print(\"XOR tuple:\", xor_tuple)\n"
   ]
  },
  {
   "cell_type": "markdown",
   "id": "6affaf14",
   "metadata": {},
   "source": [
    "###  49: AND operation between Tuples"
   ]
  },
  {
   "cell_type": "code",
   "execution_count": 75,
   "id": "c098272c",
   "metadata": {},
   "outputs": [
    {
     "name": "stdout",
     "output_type": "stream",
     "text": [
      "AND operation Between Tuple: [0, 0, 2, 1]\n"
     ]
    }
   ],
   "source": [
    "tuple1 = (10, 4, 6, 9)\n",
    "tuple2 = (5, 2, 3, 3)\n",
    "and_tuple=[]\n",
    "for a, b in zip(tuple1, tuple2):\n",
    "    and_result = a & b \n",
    "    and_tuple.append(and_result)\n",
    "\n",
    "print(\"AND operation Between Tuple:\", and_tuple)\n"
   ]
  },
  {
   "cell_type": "markdown",
   "id": "8ba0f3c1",
   "metadata": {},
   "source": [
    "###  Elementwise AND in tuples"
   ]
  },
  {
   "cell_type": "code",
   "execution_count": 72,
   "id": "f42bc1b4",
   "metadata": {},
   "outputs": [
    {
     "name": "stdout",
     "output_type": "stream",
     "text": [
      "Elementwise AND Tuple: [0, 0, 2, 1]\n"
     ]
    }
   ],
   "source": [
    "tuple1 = (10, 4, 6, 9)\n",
    "tuple2 = (5, 2, 3, 3)\n",
    "ele_tuple=[]\n",
    "for a, b in zip(tuple1, tuple2):\n",
    "    ele_result= a & b\n",
    "    ele_tuple.append(ele_result)\n",
    "\n",
    "\n",
    "print(\"Elementwise AND Tuple:\", (ele_tuple))\n",
    "\n"
   ]
  },
  {
   "cell_type": "code",
   "execution_count": null,
   "id": "763211e9",
   "metadata": {},
   "outputs": [],
   "source": []
  }
 ],
 "metadata": {
  "kernelspec": {
   "display_name": "Python 3 (ipykernel)",
   "language": "python",
   "name": "python3"
  },
  "language_info": {
   "codemirror_mode": {
    "name": "ipython",
    "version": 3
   },
   "file_extension": ".py",
   "mimetype": "text/x-python",
   "name": "python",
   "nbconvert_exporter": "python",
   "pygments_lexer": "ipython3",
   "version": "3.11.4"
  }
 },
 "nbformat": 4,
 "nbformat_minor": 5
}
