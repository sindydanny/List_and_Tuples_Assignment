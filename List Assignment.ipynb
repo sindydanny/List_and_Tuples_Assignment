{
 "cells": [
  {
   "cell_type": "markdown",
   "id": "82996ed6",
   "metadata": {},
   "source": [
    "### 1.Write a Python program to sum all the items:"
   ]
  },
  {
   "cell_type": "code",
   "execution_count": 12,
   "id": "84ea7ad4",
   "metadata": {},
   "outputs": [
    {
     "name": "stdout",
     "output_type": "stream",
     "text": [
      "List of number:  [12, 9, 6, 3, 22, 8]\n",
      "Sum of list1 :  60\n"
     ]
    }
   ],
   "source": [
    "list1 = [12,9,6,3,22,8]\n",
    "sum = 0\n",
    "for l in list1:\n",
    "    sum +=l\n",
    "print(\"List of number: \", list1)\n",
    "print(\"Sum of list1 : \",sum)    "
   ]
  },
  {
   "cell_type": "markdown",
   "id": "9776bb98",
   "metadata": {},
   "source": [
    "### 2.Write a Python program to multiply all the items in a list"
   ]
  },
  {
   "cell_type": "code",
   "execution_count": 13,
   "id": "816f9ea0",
   "metadata": {},
   "outputs": [
    {
     "name": "stdout",
     "output_type": "stream",
     "text": [
      "Product of list :  342144\n"
     ]
    }
   ],
   "source": [
    "product = 1\n",
    "for l in list1:\n",
    "    product *=l\n",
    "print(\"Product of list : \",product)"
   ]
  },
  {
   "cell_type": "markdown",
   "id": "7ca5898f",
   "metadata": {},
   "source": [
    "### 3.Write a Python program to get the largest number from a list"
   ]
  },
  {
   "cell_type": "code",
   "execution_count": 14,
   "id": "81909bd1",
   "metadata": {},
   "outputs": [
    {
     "name": "stdout",
     "output_type": "stream",
     "text": [
      "Largest number in list1 :  22\n"
     ]
    }
   ],
   "source": [
    "largest_num = max(list1)\n",
    "print(\"Largest number in list1 : \",largest_num)"
   ]
  },
  {
   "cell_type": "markdown",
   "id": "e3a0c28c",
   "metadata": {},
   "source": [
    "### 4.Write a Python program to get the smallest number from a list "
   ]
  },
  {
   "cell_type": "code",
   "execution_count": 15,
   "id": "2bf7e3fe",
   "metadata": {},
   "outputs": [
    {
     "name": "stdout",
     "output_type": "stream",
     "text": [
      "Smallest number in list1 :  3\n"
     ]
    }
   ],
   "source": [
    "smallest_num = min(list1)\n",
    "print(\"Smallest number in list1 : \",smallest_num)"
   ]
  },
  {
   "cell_type": "markdown",
   "id": "91e9ad99",
   "metadata": {},
   "source": [
    "### 5. Write a Python program to count the number of strings where the string length is 2 or more and the first and last character are same from a given list of strings"
   ]
  },
  {
   "cell_type": "code",
   "execution_count": 30,
   "id": "8d91cfe1",
   "metadata": {},
   "outputs": [
    {
     "name": "stdout",
     "output_type": "stream",
     "text": [
      "Number of String:  4\n"
     ]
    }
   ],
   "source": [
    "st_list = [\"anna\",\"ben\",\"elle\",\"denis\",\"anna\",\"cassy\",\"elle\"]\n",
    "count = 0\n",
    "for s in st_list:\n",
    "    if len(s)>=2 and s[0] == s[-1]:\n",
    "        count +=1\n",
    "print(\"Number of String: \",count)"
   ]
  },
  {
   "cell_type": "markdown",
   "id": "f07e3f90",
   "metadata": {},
   "source": [
    "### 6.Write a Python program to remove duplicates from a list"
   ]
  },
  {
   "cell_type": "code",
   "execution_count": 32,
   "id": "968d7dc1",
   "metadata": {},
   "outputs": [
    {
     "name": "stdout",
     "output_type": "stream",
     "text": [
      "Original list :  ['anna', 'ben', 'elle', 'denis', 'anna', 'cassy', 'elle']\n",
      "Duplicates Removed list :  ['anna', 'elle', 'ben', 'cassy', 'denis']\n"
     ]
    }
   ],
   "source": [
    "rem_dup = list(set(st_list))\n",
    "print(\"Original list : \",st_list)\n",
    "print(\"Duplicates Removed list : \",rem_dup)"
   ]
  },
  {
   "cell_type": "markdown",
   "id": "fd454a7e",
   "metadata": {},
   "source": [
    "### 7.Write a Python program to check a list is empty or not"
   ]
  },
  {
   "cell_type": "code",
   "execution_count": 48,
   "id": "44209873",
   "metadata": {},
   "outputs": [
    {
     "name": "stdout",
     "output_type": "stream",
     "text": [
      "Check rem_dup list is empty or not:-\n",
      "               \n",
      "\tThe list is not empty\n",
      "               \n",
      "Check my_list is empty or not :-\n",
      "               \n",
      "\tThe list is empty\n"
     ]
    }
   ],
   "source": [
    "my_list = []\n",
    "print(\"Check rem_dup list is empty or not:-\")\n",
    "print(\"               \")\n",
    "if not rem_dup:\n",
    "    print(\"\\tThe list is empty\")\n",
    "else:\n",
    "    print(\"\\tThe list is not empty\")\n",
    "\n",
    "print(\"               \")\n",
    "print(\"Check my_list is empty or not :-\")\n",
    "print(\"               \")\n",
    "if not my_list:\n",
    "        print(\"\\tThe list is empty\")\n",
    "else:\n",
    "    print(\"\\tThe list is not empty\")\n"
   ]
  },
  {
   "cell_type": "markdown",
   "id": "13662e64",
   "metadata": {},
   "source": [
    "### 8.. Write a Python program to clone or copy a list"
   ]
  },
  {
   "cell_type": "code",
   "execution_count": 49,
   "id": "79b11ac9",
   "metadata": {},
   "outputs": [],
   "source": [
    "import copy"
   ]
  },
  {
   "cell_type": "code",
   "execution_count": 52,
   "id": "651f9297",
   "metadata": {},
   "outputs": [
    {
     "name": "stdout",
     "output_type": "stream",
     "text": [
      "Original list :  ['anna', 'ben', 'elle', 'denis', 'anna', 'cassy', 'elle']\n",
      "Copyed list :  ['Copy_list', 'ben', 'elle', 'denis', 'anna', 'cassy', 'elle']\n"
     ]
    }
   ],
   "source": [
    "copy_list = copy.copy(st_list)\n",
    "copy_list[0] = \"Copy_list\"\n",
    "print(\"Original list : \", st_list)\n",
    "print(\"Copyed list : \",copy_list)"
   ]
  },
  {
   "cell_type": "markdown",
   "id": "4f391726",
   "metadata": {},
   "source": [
    "### 9. Write a Python program to find the list of words that are longer than n from a given list of words"
   ]
  },
  {
   "cell_type": "code",
   "execution_count": 56,
   "id": "2ef72527",
   "metadata": {},
   "outputs": [
    {
     "name": "stdout",
     "output_type": "stream",
     "text": [
      "List of word longer than 4 is  ['Words', 'Longer', 'given', 'Words']\n"
     ]
    }
   ],
   "source": [
    "g_list = ['Words','ell','date', 'Longer', 'given', 'Words','ab']\n",
    "n = 4\n",
    "l_list = [l for l in g_list if len(l) > n]\n",
    "print(\"List of word longer than 4 is \",l_list)"
   ]
  },
  {
   "cell_type": "markdown",
   "id": "031b628e",
   "metadata": {},
   "source": [
    "### 10.Write a Program that get two lists as input and check if they have at least one common member "
   ]
  },
  {
   "cell_type": "code",
   "execution_count": 87,
   "id": "52d8c1d6",
   "metadata": {},
   "outputs": [
    {
     "name": "stdout",
     "output_type": "stream",
     "text": [
      "Lists have at least one common member\n"
     ]
    }
   ],
   "source": [
    "l1 = [1,2,3,4,5]\n",
    "l2 = [5,6,7,8,9]\n",
    "c_m = False\n",
    "\n",
    "for item in l1:\n",
    "    if item in li2:\n",
    "        c_m = True\n",
    "        break\n",
    "if c_m:\n",
    "    print(\"Lists have at least one common member\")\n",
    "else:\n",
    "    print(\"Lists do not have any common members\")"
   ]
  },
  {
   "cell_type": "markdown",
   "id": "f5476e20",
   "metadata": {},
   "source": [
    "### 11. Write a Python program to print a specified list after removing the 0th, 4th and 5th elements. (enumerate) "
   ]
  },
  {
   "cell_type": "code",
   "execution_count": 90,
   "id": "19f184a3",
   "metadata": {},
   "outputs": [
    {
     "name": "stdout",
     "output_type": "stream",
     "text": [
      "Original List: ['Cat', 'Dog', 'Elephant', 'Fox', 'Tiger', 'Lion', 'Ponda']\n",
      "List after removing specified elements: ['Dog', 'Elephant', 'Fox', 'Ponda']\n"
     ]
    }
   ],
   "source": [
    "my_list = [\"Cat\", \"Dog\", \"Elephant\", \"Fox\", \"Tiger\", \"Lion\", \"Ponda\"]\n",
    "\n",
    "list_rem = [0, 4, 5]\n",
    "\n",
    "newlist = [value for index, value in enumerate(my_list) if index not in list_rem]\n",
    "\n",
    "print(\"Original List:\", my_list)\n",
    "print(\"List after removing specified elements:\", newlist)\n"
   ]
  },
  {
   "cell_type": "markdown",
   "id": "2418e09e",
   "metadata": {},
   "source": [
    "###  12.Write a Python program to print the numbers of a specified list after removing even numbers from it"
   ]
  },
  {
   "cell_type": "code",
   "execution_count": 91,
   "id": "771ee2cf",
   "metadata": {},
   "outputs": [
    {
     "name": "stdout",
     "output_type": "stream",
     "text": [
      "Original List: [7, 32, 81, 20, 25, 14, 23, 27]\n",
      "List after removing even numbers: [7, 81, 25, 23, 27]\n"
     ]
    }
   ],
   "source": [
    "list_1= [7, 32, 81, 20, 25, 14, 23, 27]\n",
    "\n",
    "new_list = [num for num in list_1 if num % 2 != 0]\n",
    "\n",
    "print(\"Original List:\", list_1)\n",
    "print(\"List after removing even numbers:\", new_list)"
   ]
  },
  {
   "cell_type": "markdown",
   "id": "cc216de6",
   "metadata": {},
   "source": [
    "### 13. Write a Python program to shuffle and print a specified list (shuffle)"
   ]
  },
  {
   "cell_type": "code",
   "execution_count": 92,
   "id": "418a2e9c",
   "metadata": {},
   "outputs": [],
   "source": [
    "import random"
   ]
  },
  {
   "cell_type": "code",
   "execution_count": 95,
   "id": "41e3d52e",
   "metadata": {},
   "outputs": [
    {
     "name": "stdout",
     "output_type": "stream",
     "text": [
      "Before shuffle : ['Cat', 'Dog', 'Elephant', 'Fox', 'Tiger', 'Lion', 'Ponda']\n",
      "\n",
      "After shuffle : ['Tiger', 'Ponda', 'Cat', 'Dog', 'Fox', 'Lion', 'Elephant']\n"
     ]
    }
   ],
   "source": [
    "\n",
    "my_list = [\"Cat\", \"Dog\", \"Elephant\", \"Fox\", \"Tiger\", \"Lion\", \"Ponda\"]\n",
    "\n",
    "print(\"Before shuffle :\",my_list)\n",
    "random.shuffle(my_list)\n",
    "print(\"\\nAfter shuffle :\",my_list)\n"
   ]
  },
  {
   "cell_type": "markdown",
   "id": "6de390e6",
   "metadata": {},
   "source": [
    "### 14.Write a Python program to generate and print a list of first and last 5 elements where the values are square of numbers between 1 and 30"
   ]
  },
  {
   "cell_type": "code",
   "execution_count": 107,
   "id": "b5ddd766",
   "metadata": {},
   "outputs": [
    {
     "name": "stdout",
     "output_type": "stream",
     "text": [
      "First 5 elements: [1, 4, 9, 16, 25]\n",
      "Last 5 elements: [676, 729, 784, 841, 900]\n"
     ]
    }
   ],
   "source": [
    "num = range(1,31)\n",
    "sq_num= [x**2 for x in num]\n",
    "print(\"First 5 elements:\", sq_num[:5])\n",
    "print(\"Last 5 elements:\", sq_num[-5:])\n"
   ]
  },
  {
   "cell_type": "markdown",
   "id": "cf624329",
   "metadata": {},
   "source": [
    "### 15. Write a Python program to generate all permutations of a list in Python. (itertools) "
   ]
  },
  {
   "cell_type": "code",
   "execution_count": 110,
   "id": "403a0e31",
   "metadata": {},
   "outputs": [],
   "source": [
    "import itertools"
   ]
  },
  {
   "cell_type": "code",
   "execution_count": 112,
   "id": "bfec57f0",
   "metadata": {},
   "outputs": [
    {
     "name": "stdout",
     "output_type": "stream",
     "text": [
      "[1, 2, 3]\n",
      "[(1, 2, 3), (1, 3, 2), (2, 1, 3), (2, 3, 1), (3, 1, 2), (3, 2, 1)]\n"
     ]
    }
   ],
   "source": [
    "my_l = [1, 2, 3]\n",
    "\n",
    "\n",
    "l = list(itertools.permutations(my_l))\n",
    "\n",
    "\n",
    "print(my_l)\n",
    "print(l)\n"
   ]
  },
  {
   "cell_type": "markdown",
   "id": "c95ad95f",
   "metadata": {},
   "source": [
    "### 16.Write a Python program to convert a list of characters into a string "
   ]
  },
  {
   "cell_type": "code",
   "execution_count": 114,
   "id": "abb10f4c",
   "metadata": {},
   "outputs": [
    {
     "name": "stdout",
     "output_type": "stream",
     "text": [
      "['T', 'u', 't', 'o', 'r', ' ', 'J', 'o', 'e', 's']\n",
      "Tutor Joes\n"
     ]
    }
   ],
   "source": [
    "c_list = ['T', 'u', 't', 'o', 'r', ' ', 'J', 'o', 'e', 's']\n",
    " \n",
    "org_list = ''.join(c_list)\n",
    " \n",
    "print(c_list)\n",
    "print(org_list)"
   ]
  },
  {
   "cell_type": "markdown",
   "id": "8450e023",
   "metadata": {},
   "source": [
    "### 17.Write a Python program to find the index of an item in a specified list "
   ]
  },
  {
   "cell_type": "code",
   "execution_count": 127,
   "id": "7d39ef0f",
   "metadata": {},
   "outputs": [
    {
     "name": "stdout",
     "output_type": "stream",
     "text": [
      "[20, 70, 30, 90, 10, 30, 90, 10, 80, 30]\n",
      "Item to find :  30\n",
      "Index number of item :  2\n"
     ]
    }
   ],
   "source": [
    "sp = [20, 70, 30, 90, 10, 30, 90, 10, 80,30]\n",
    "index_value = 30\n",
    "num = 0\n",
    "for s in sp:\n",
    "    if s == index_value:\n",
    "        num = sp.index(index_value)\n",
    "        \n",
    "print(sp)\n",
    "print(\"Item to find : \", index_value)\n",
    "print(\"Index number of item : \", num)"
   ]
  },
  {
   "cell_type": "markdown",
   "id": "b4ee4857",
   "metadata": {},
   "source": [
    "### 18. Write a Python program to flatten a shallow list "
   ]
  },
  {
   "cell_type": "code",
   "execution_count": 153,
   "id": "f5e4e833",
   "metadata": {},
   "outputs": [
    {
     "name": "stdout",
     "output_type": "stream",
     "text": [
      "[[20, 30, 70], [30, 90, 10], [30, 20], [70, 90, 10, 80]]\n",
      "[20, 30, 70, 30, 90, 10, 30, 20, 70, 90, 10, 80]\n"
     ]
    }
   ],
   "source": [
    "s_list = [[20,30,70],[30,90,10], [30,20], [70,90,10,80]]\n",
    "l = []\n",
    "for s1 in s_list:\n",
    "    for s in s1:\n",
    "        l.append(s)\n",
    "        \n",
    "#l = [s for s1 in s_list for s in s1]\n",
    "      \n",
    "print(s_list)\n",
    "print(l)"
   ]
  },
  {
   "cell_type": "markdown",
   "id": "539dd7be",
   "metadata": {},
   "source": [
    "### 19. Write a Python program to add a list to the second list"
   ]
  },
  {
   "cell_type": "code",
   "execution_count": 156,
   "id": "41e030d3",
   "metadata": {},
   "outputs": [
    {
     "name": "stdout",
     "output_type": "stream",
     "text": [
      "The item in list1  [10, 20, 30, 40]\n",
      "The item in list2  ['Cat', 'Dog', 'Lion', 'Ponda']\n",
      "Merging two list  [10, 20, 30, 40, 'Cat', 'Dog', 'Lion', 'Ponda']\n"
     ]
    }
   ],
   "source": [
    "list1= [10, 20, 30, 40]\n",
    "list2= [\"Cat\", \"Dog\", \"Lion\", \"Ponda\"]\n",
    "Add_list = list1 + list2\n",
    "print(\"The item in list1 \", list1)\n",
    "print(\"The item in list2 \", list2)\n",
    "print(\"Merging two list \", Add_list)"
   ]
  },
  {
   "cell_type": "markdown",
   "id": "4780dda1",
   "metadata": {},
   "source": [
    "### 20.Write a Python program to select an item randomly from a list Using random.choice() "
   ]
  },
  {
   "cell_type": "code",
   "execution_count": 158,
   "id": "e7bfc7b8",
   "metadata": {},
   "outputs": [],
   "source": [
    "import random"
   ]
  },
  {
   "cell_type": "code",
   "execution_count": 170,
   "id": "4ac71c6c",
   "metadata": {},
   "outputs": [
    {
     "name": "stdout",
     "output_type": "stream",
     "text": [
      "Item randomly chosen : Lion\n"
     ]
    }
   ],
   "source": [
    "l_ran = [\"Cat\", \"Dog\", \"Elephant\", \"Fox\", \"Tiger\", \"Lion\", \"Panda\"]\n",
    "random_ch = random.choice(l_ran)\n",
    "print(\"Item randomly chosen :\", random_ch)"
   ]
  },
  {
   "cell_type": "markdown",
   "id": "ba48a647",
   "metadata": {},
   "source": [
    "### 21.Write a python program to check whether two lists are circularly identical"
   ]
  },
  {
   "cell_type": "code",
   "execution_count": 177,
   "id": "84f69a31",
   "metadata": {},
   "outputs": [
    {
     "name": "stdout",
     "output_type": "stream",
     "text": [
      "[8, 8, 12, 12, 8]\n",
      "[8, 8, 8, 12, 12]\n",
      "[1, 8, 8, 12, 12]\n",
      "Compare List1 and List2: True\n",
      "Compare List1 and List3: False\n"
     ]
    }
   ],
   "source": [
    "def fun_cirular_identical(L1,L2):\n",
    "    if len(L1) == len (L2):\n",
    "        cl = L1 + L1\n",
    "        return set(L2) <= set(cl)\n",
    "    return False\n",
    "    \n",
    "   \n",
    "        \n",
    "list1 = [8, 8, 12, 12, 8]\n",
    "list2 = [8, 8, 8, 12, 12]\n",
    "list3 = [1, 8, 8, 12, 12]\n",
    "\n",
    "fun1 = fun_cirular_identical(list1,list2)\n",
    "fun2 = fun_cirular_identical(list1,list3)\n",
    "\n",
    "print(list1)\n",
    "print(list2)\n",
    "print(list3)\n",
    "print(\"Compare List1 and List2:\", fun1)\n",
    "print(\"Compare List1 and List3:\", fun2)"
   ]
  },
  {
   "cell_type": "markdown",
   "id": "c67f3053",
   "metadata": {},
   "source": [
    "### 22.Write a Python program to find the second smallest number in a list"
   ]
  },
  {
   "cell_type": "code",
   "execution_count": 183,
   "id": "59438301",
   "metadata": {},
   "outputs": [
    {
     "name": "stdout",
     "output_type": "stream",
     "text": [
      "Unsorted original list :  [2, 84, 56, 78, 4, 34, 5, 8, 9]\n",
      "Sorted from original list :  [2, 4, 5, 8, 9, 34, 56, 78, 84]\n",
      "second Smallest number :  4\n"
     ]
    }
   ],
   "source": [
    "unsorted_list = [2,84,56,78,4,34,5,8,9]\n",
    "sorted_lis= sorted(unsorted_list)\n",
    "print(\"Unsorted original list : \", unsorted_list)\n",
    "print(\"Sorted from original list : \", sorted_lis)\n",
    "print(\"second Smallest number : \", sorted_lis[1])"
   ]
  },
  {
   "cell_type": "markdown",
   "id": "3ae75c45",
   "metadata": {},
   "source": [
    "### 23.Write a Python program to find the second largest number in a list"
   ]
  },
  {
   "cell_type": "code",
   "execution_count": 186,
   "id": "015b8050",
   "metadata": {},
   "outputs": [
    {
     "name": "stdout",
     "output_type": "stream",
     "text": [
      "[2, 84, 56, 78, 4, 34, 5, 8, 9]\n",
      "The second largest number :  78\n"
     ]
    }
   ],
   "source": [
    "l = sl = 0\n",
    "for n in unsorted_list:\n",
    "    if n > l:\n",
    "        sl = l\n",
    "        l = n\n",
    "    elif n > sl and n != l:\n",
    "        sl = n\n",
    "print(unsorted_list)\n",
    "print(\"The second largest number : \", sl)"
   ]
  },
  {
   "cell_type": "markdown",
   "id": "e587baaa",
   "metadata": {},
   "source": [
    "### 24.Write a Python program to get unique values from a list"
   ]
  },
  {
   "cell_type": "code",
   "execution_count": 189,
   "id": "7b0e9334",
   "metadata": {},
   "outputs": [
    {
     "name": "stdout",
     "output_type": "stream",
     "text": [
      "[82, 4, 10, 56, 78, 4, 34, 5, 10, 9]\n",
      "[34, 4, 5, 9, 10, 78, 82, 56]\n"
     ]
    }
   ],
   "source": [
    "my_list = [82, 4, 10, 56, 78, 4, 34, 5, 10, 9]\n",
    "u_set = set(my_list)\n",
    "u_list = list(u_set)\n",
    "print(my_list)\n",
    "print(u_list)"
   ]
  },
  {
   "cell_type": "markdown",
   "id": "ee592970",
   "metadata": {},
   "source": [
    "### 25. Write a Python program to get the frequency of the elements in a list."
   ]
  },
  {
   "cell_type": "code",
   "execution_count": 191,
   "id": "cf0f58ab",
   "metadata": {},
   "outputs": [],
   "source": [
    "from collections import Counter"
   ]
  },
  {
   "cell_type": "code",
   "execution_count": 194,
   "id": "87d33525",
   "metadata": {},
   "outputs": [
    {
     "name": "stdout",
     "output_type": "stream",
     "text": [
      "[10, 30, 50, 10, 20, 60, 20, 60, 40, 40, 50, 50, 30]\n",
      "10:2\n",
      "30:2\n",
      "50:3\n",
      "20:2\n",
      "60:2\n",
      "40:2\n"
     ]
    }
   ],
   "source": [
    "my_List = [10, 30, 50, 10, 20, 60, 20, 60, 40, 40, 50, 50, 30]\n",
    "ele_count = Counter(my_List)\n",
    "\n",
    "print(my_List)\n",
    "for e, c in ele_count.items():\n",
    "    print(f\"{e}:{c}\")\n",
    "    "
   ]
  },
  {
   "cell_type": "markdown",
   "id": "e00701fc",
   "metadata": {},
   "source": [
    "### 26. Create a list by concatenating a given list which range goes from 1 to n "
   ]
  },
  {
   "cell_type": "code",
   "execution_count": 198,
   "id": "3d1899c8",
   "metadata": {},
   "outputs": [
    {
     "name": "stdout",
     "output_type": "stream",
     "text": [
      "['T1', 'J1', 'T2', 'J2', 'T3', 'J3', 'T4', 'J4', 'T5', 'J5', 'T6', 'J6', 'T7', 'J7', 'T8', 'J8', 'T9', 'J9', 'T10', 'J10']\n"
     ]
    }
   ],
   "source": [
    "L = ['T','J']\n",
    "N = 10\n",
    "M = []\n",
    "for n in range(1, N+1):\n",
    "    for t in L:\n",
    "       # M = t + str(n)\n",
    "        M.append(t + str(n))\n",
    "print(M)"
   ]
  },
  {
   "cell_type": "markdown",
   "id": "eb490146",
   "metadata": {},
   "source": [
    "### 27.. Write a Python program to get variable unique identification number or string"
   ]
  },
  {
   "cell_type": "code",
   "execution_count": 207,
   "id": "f35844df",
   "metadata": {},
   "outputs": [
    {
     "name": "stdout",
     "output_type": "stream",
     "text": [
      "Unique identification number : 140733361133256\n",
      "Unique identification String : 2507466774064\n"
     ]
    }
   ],
   "source": [
    "x = 30\n",
    "s = \"Tutor Joes\"\n",
    "print(\"Unique identification number :\", id(x))\n",
    "print(\"Unique identification String :\", id(s))"
   ]
  },
  {
   "cell_type": "markdown",
   "id": "2638ebbb",
   "metadata": {},
   "source": [
    "### 28.Write a Python program to find common items from two lists"
   ]
  },
  {
   "cell_type": "code",
   "execution_count": 208,
   "id": "edb91319",
   "metadata": {},
   "outputs": [
    {
     "name": "stdout",
     "output_type": "stream",
     "text": [
      "[23, 45, 67, 78, 89, 34]\n",
      "[34, 89, 55, 56, 39, 67]\n",
      "{89, 34, 67}\n"
     ]
    }
   ],
   "source": [
    "l1 = [23,45,67,78,89,34]\n",
    "l2 = [34,89,55,56,39,67]\n",
    "set1 = set(l1)\n",
    "set2 = set(l2)\n",
    "common = set1 & set2\n",
    "print(l1)\n",
    "print(l2)\n",
    "print(common)"
   ]
  },
  {
   "cell_type": "markdown",
   "id": "f24e53bf",
   "metadata": {},
   "source": [
    "### 29.Write a Python program to split a list based on first character of word"
   ]
  },
  {
   "cell_type": "code",
   "execution_count": 217,
   "id": "7d999bef",
   "metadata": {
    "scrolled": true
   },
   "outputs": [
    {
     "name": "stdout",
     "output_type": "stream",
     "text": [
      "C\n",
      "  cat\n",
      "  cow\n",
      "D\n",
      "  dog\n",
      "T\n",
      "  tiger\n",
      "  turtle\n",
      "L\n",
      "  lion\n",
      "F\n",
      "  Fox\n",
      "S\n",
      "  Shark\n",
      "  Snake\n",
      "M\n",
      "  mouse\n",
      "  monkey\n",
      "B\n",
      "  bear\n"
     ]
    }
   ],
   "source": [
    "mylist = [\"cat\", \"dog\", \"cow\", \"tiger\", \"lion\", \"Fox\", \"Shark\", \"Snake\", \"turtle\", \"mouse\", \"monkey\",\"bear\"]\n",
    "\n",
    "#dic to store word\n",
    "store_list = {}                            # Create a dictionary to store words by their first character\n",
    "for l in mylist:                      # Group words by their first character\n",
    "    first_char = l[0].capitalize()    # Get the first character and capitalize it\n",
    "    if first_char not in store_list:\n",
    "          store_list[first_char] = []\n",
    "    store_list[first_char].append(l)\n",
    "\n",
    "for k, v in store.items():\n",
    "    print(k)\n",
    "    for l in v:\n",
    "        print(\" \", l)"
   ]
  },
  {
   "cell_type": "markdown",
   "id": "5cc03a4a",
   "metadata": {},
   "source": [
    "### 30.Write a Python program to select the odd number of a list"
   ]
  },
  {
   "cell_type": "code",
   "execution_count": 223,
   "id": "903201d2",
   "metadata": {},
   "outputs": [
    {
     "name": "stdout",
     "output_type": "stream",
     "text": [
      "[1, 2, 4, 3, 6, 7, 5, 8, 9, 7, 8, 9, 10]\n",
      "[1, 3, 7, 5, 9, 7, 9]\n"
     ]
    }
   ],
   "source": [
    "num = [1,2,4,3,6,7,5,8,9,7,8,9,10]\n",
    "odd = []\n",
    "for n in num:\n",
    "    if n % 2 != 0:\n",
    "        odd.append(n)\n",
    "print(num)\n",
    "print(odd)     "
   ]
  },
  {
   "cell_type": "markdown",
   "id": "ebd74068",
   "metadata": {},
   "source": [
    "### 31. Write a Python Program to count unique values inside a list "
   ]
  },
  {
   "cell_type": "code",
   "execution_count": 224,
   "id": "f88748e9",
   "metadata": {},
   "outputs": [
    {
     "name": "stdout",
     "output_type": "stream",
     "text": [
      "[10, 20, 30, 50, 80, 70, 70, 80, 10]\n",
      "No of Unique Items in List: 6\n"
     ]
    }
   ],
   "source": [
    "my_list = [10, 20, 30, 50, 80, 70, 70, 80, 10]\n",
    "unique = set(my_list)\n",
    "count = len(unique)\n",
    "print(my_list)\n",
    "print(\"No of Unique Items in List:\", count)"
   ]
  },
  {
   "cell_type": "markdown",
   "id": "19bc2e61",
   "metadata": {},
   "source": [
    "### 32. List product excluding duplicates"
   ]
  },
  {
   "cell_type": "code",
   "execution_count": null,
   "id": "19df7a35",
   "metadata": {},
   "outputs": [],
   "source": [
    " \n"
   ]
  },
  {
   "cell_type": "markdown",
   "id": "4d95c9fb",
   "metadata": {},
   "source": [
    "### 33.Extract elements with frequency greater than K"
   ]
  },
  {
   "cell_type": "code",
   "execution_count": 227,
   "id": "489335c0",
   "metadata": {},
   "outputs": [
    {
     "name": "stdout",
     "output_type": "stream",
     "text": [
      "[4, 6, 4, 3, 3, 4, 3, 7, 8, 8]\n"
     ]
    }
   ],
   "source": [
    "my_list = [4, 6, 4, 3, 3, 4, 3, 7, 8, 8]\n",
    "k = 2\n",
    "ele = []\n",
    "for x in my_list:\n",
    "    if x > k:\n",
    "        ele.append(x)\n",
    "print(ele)"
   ]
  },
  {
   "cell_type": "markdown",
   "id": "40b49c31",
   "metadata": {},
   "source": [
    "### 34.Write a Python Program to Test if List contains elements in Range"
   ]
  },
  {
   "cell_type": "code",
   "execution_count": 250,
   "id": "5e028f7b",
   "metadata": {},
   "outputs": [
    {
     "ename": "TypeError",
     "evalue": "'bool' object is not iterable",
     "output_type": "error",
     "traceback": [
      "\u001b[1;31m---------------------------------------------------------------------------\u001b[0m",
      "\u001b[1;31mTypeError\u001b[0m                                 Traceback (most recent call last)",
      "Cell \u001b[1;32mIn[250], line 5\u001b[0m\n\u001b[0;32m      3\u001b[0m end \u001b[38;5;241m=\u001b[39m  \u001b[38;5;241m4\u001b[39m\n\u001b[0;32m      4\u001b[0m \u001b[38;5;28;01mfor\u001b[39;00m x \u001b[38;5;129;01min\u001b[39;00m my_list:\n\u001b[1;32m----> 5\u001b[0m     result \u001b[38;5;241m=\u001b[39m \u001b[38;5;28mall\u001b[39m(start \u001b[38;5;241m<\u001b[39m\u001b[38;5;241m=\u001b[39m x \u001b[38;5;241m<\u001b[39m\u001b[38;5;241m=\u001b[39m end)\n\u001b[0;32m      6\u001b[0m \u001b[38;5;28mprint\u001b[39m(my_list)\n\u001b[0;32m      7\u001b[0m \u001b[38;5;28mprint\u001b[39m(\u001b[38;5;124m\"\u001b[39m\u001b[38;5;124mDoes list contain all elements in range:\u001b[39m\u001b[38;5;124m\"\u001b[39m, result)\n",
      "\u001b[1;31mTypeError\u001b[0m: 'bool' object is not iterable"
     ]
    }
   ],
   "source": [
    "my_list = [4, 5, 6, 7, 3, 9]\n",
    "start = 3\n",
    "end =  4\n",
    "for x in my_list:\n",
    "    result = all(start <= x <= end)\n",
    "print(my_list)\n",
    "print(\"Does list contain all elements in range:\", result)"
   ]
  },
  {
   "cell_type": "markdown",
   "id": "90953a56",
   "metadata": {},
   "source": [
    "### 35. Write a Python program to check if the list contains three consecutive common numbers in Python"
   ]
  },
  {
   "cell_type": "code",
   "execution_count": 261,
   "id": "c2713c56",
   "metadata": {},
   "outputs": [
    {
     "name": "stdout",
     "output_type": "stream",
     "text": [
      "[18, 18, 18, 6, 3, 4, 9, 9, 9]\n",
      "Three Consecutive common numbers = [18, 18, 18, 9, 9, 9]\n"
     ]
    }
   ],
   "source": [
    "my_list = [18, 18, 18, 6, 3, 4, 9, 9, 9]\n",
    "k = 3\n",
    "result = [x for x in my_list if my_list.count(x) == k]\n",
    "print(my_list)\n",
    "print(\"Three Consecutive common numbers =\", result)"
   ]
  },
  {
   "cell_type": "markdown",
   "id": "4be99d4e",
   "metadata": {},
   "source": [
    "### 36. Write a Python program to find the Strongest Neighbour"
   ]
  },
  {
   "cell_type": "code",
   "execution_count": 272,
   "id": "556d2666",
   "metadata": {},
   "outputs": [
    {
     "name": "stdout",
     "output_type": "stream",
     "text": [
      "20 30 30 30 400\n"
     ]
    }
   ],
   "source": [
    "my_list = [10, 20, 30, 20, 30, 400]\n",
    "sn=[]\n",
    "for i in range(0, len(my_list) - 1):\n",
    "    sn.append(max(my_list[i], my_list[i+1]))\n",
    "print(*sn)"
   ]
  },
  {
   "cell_type": "markdown",
   "id": "b6f3a401",
   "metadata": {},
   "source": [
    "### 37. Write a Python Program to print all Possible Combinations from the three Digits"
   ]
  },
  {
   "cell_type": "code",
   "execution_count": 274,
   "id": "9794649e",
   "metadata": {},
   "outputs": [],
   "source": [
    "from itertools import permutations"
   ]
  },
  {
   "cell_type": "code",
   "execution_count": 278,
   "id": "8b127bd1",
   "metadata": {},
   "outputs": [
    {
     "name": "stdout",
     "output_type": "stream",
     "text": [
      "[1, 2, 3]\n",
      "1 2 3\n",
      "1 3 2\n",
      "2 1 3\n",
      "2 3 1\n",
      "3 1 2\n",
      "3 2 1\n"
     ]
    }
   ],
   "source": [
    "my_list = [1, 2, 3]\n",
    "comb = list(permutations(my_list))\n",
    "print(my_list)\n",
    "for c in comb:\n",
    "    print(*c)"
   ]
  },
  {
   "cell_type": "markdown",
   "id": "4b966e3f",
   "metadata": {},
   "source": [
    "### 38. Write a Python program to find all the Combinations in the list with the given condition"
   ]
  },
  {
   "cell_type": "code",
   "execution_count": 279,
   "id": "ca079add",
   "metadata": {},
   "outputs": [],
   "source": [
    "from itertools import combinations"
   ]
  },
  {
   "cell_type": "code",
   "execution_count": 280,
   "id": "5a8e2e79",
   "metadata": {},
   "outputs": [
    {
     "name": "stdout",
     "output_type": "stream",
     "text": [
      "['Tutor Joes', 'Software', 'Computer', 'Solution', 'Education']\n",
      "[['Tutor Joes', 'Software', 'Computer'], ['Tutor Joes', 'Software', 'Solution'], ['Tutor Joes', 'Software', 'Education'], ['Tutor Joes', 'Computer', 'Solution'], ['Tutor Joes', 'Computer', 'Education'], ['Tutor Joes', 'Solution', 'Education'], ['Software', 'Computer', 'Solution'], ['Software', 'Computer', 'Education'], ['Software', 'Solution', 'Education'], ['Computer', 'Solution', 'Education']]\n"
     ]
    }
   ],
   "source": [
    "my_list = ['Tutor Joes', 'Software', 'Computer', 'Solution', 'Education']\n",
    "l=[]\n",
    "for x in combinations(my_list, 3):\n",
    "    l.append(list(x))\n",
    "\n",
    "print(my_list)\n",
    "print(l)"
   ]
  },
  {
   "cell_type": "markdown",
   "id": "f3eaf4f7",
   "metadata": {},
   "source": [
    "### 39. Write a Python program to get all unique combinations of two Lists"
   ]
  },
  {
   "cell_type": "code",
   "execution_count": 299,
   "id": "a7ed27cb",
   "metadata": {},
   "outputs": [
    {
     "name": "stdout",
     "output_type": "stream",
     "text": [
      "['A', 'B', 'C']\n",
      "[1, 2, 3]\n",
      "[('A', 1), ('A', 2), ('A', 3), ('B', 1), ('B', 2), ('B', 3), ('C', 1), ('C', 2), ('C', 3)]\n"
     ]
    }
   ],
   "source": [
    "from itertools import product\n",
    "\n",
    "list1 = ['A', 'B', 'C']\n",
    "list2 = [1, 2, 3]\n",
    "\n",
    "combinations = list(product(list1, list2))\n",
    "print(list1)\n",
    "print(list2)\n",
    "print(combinations)"
   ]
  },
  {
   "cell_type": "markdown",
   "id": "8a354079",
   "metadata": {},
   "source": [
    "### 40. Write a Python program to remove all the occurrences of an element from a list"
   ]
  },
  {
   "cell_type": "code",
   "execution_count": 304,
   "id": "4dd8cb03",
   "metadata": {},
   "outputs": [
    {
     "name": "stdout",
     "output_type": "stream",
     "text": [
      "[3, 4, 6, 5]\n"
     ]
    }
   ],
   "source": [
    "def remove_all_occurrences(lst, ele):\n",
    "    return [i for i in lst if i != ele]\n",
    "\n",
    "my_list = [1, 3, 4, 6, 5, 1]\n",
    "ele = 1\n",
    "\n",
    "result = remove_all_occurrences(my_list, ele)\n",
    "print(result)"
   ]
  },
  {
   "cell_type": "markdown",
   "id": "2099faec",
   "metadata": {},
   "source": [
    "### 41. Write a Python Program to Remove Consecutive K element records"
   ]
  },
  {
   "cell_type": "code",
   "execution_count": null,
   "id": "1f4f6eae",
   "metadata": {},
   "outputs": [],
   "source": []
  },
  {
   "cell_type": "markdown",
   "id": "80ada429",
   "metadata": {},
   "source": [
    "### 42. Write a Python Program to Replace index elements with elements in Other List"
   ]
  },
  {
   "cell_type": "code",
   "execution_count": 310,
   "id": "5434d812",
   "metadata": {},
   "outputs": [
    {
     "name": "stdout",
     "output_type": "stream",
     "text": [
      "['Tutor Joes', 'Computer', 'Education']\n",
      "[2, 1, 0, 1, 0, 2, 2, 0, 1, 0, 1, 2]\n",
      "['Education', 'Computer', 'Tutor Joes', 'Computer', 'Tutor Joes', 'Education', 'Education', 'Tutor Joes', 'Computer', 'Tutor Joes', 'Computer', 'Education']\n"
     ]
    }
   ],
   "source": [
    "other_list = ['Tutor Joes', 'Computer', 'Education']\n",
    "index_list = [2, 1, 0, 1, 0, 2, 2, 0, 1, 0, 1, 2]\n",
    "my_list=[]\n",
    "\n",
    "for i in index_list:\n",
    "    my_list.append(other_list[i])\n",
    "\n",
    "print(other_list)\n",
    "print(index_list)\n",
    "print(my_list)"
   ]
  },
  {
   "cell_type": "markdown",
   "id": "5bbbccbd",
   "metadata": {},
   "source": [
    "### 43. Write a Python Program to Retain records with N occurrences of K"
   ]
  },
  {
   "cell_type": "code",
   "execution_count": 323,
   "id": "5409f03b",
   "metadata": {},
   "outputs": [
    {
     "name": "stdout",
     "output_type": "stream",
     "text": [
      "(4, 5, 6, 5, 4)\n",
      "(5, 5, 2)\n"
     ]
    }
   ],
   "source": [
    "def retain_records(rlist, K, N):\n",
    "    return [l for l in rlist if l.count(K) == N]\n",
    "\n",
    "my_list = [ (4, 5, 6, 5, 4), (4, 5, 3), (5, 5, 2), (3, 4, 9) ]\n",
    "K = 5\n",
    "N = 2\n",
    "r_list = retain_records(my_list,K,N)\n",
    "\n",
    "for l in r_list:\n",
    "    print(l)"
   ]
  },
  {
   "cell_type": "markdown",
   "id": "6e106d61",
   "metadata": {},
   "source": [
    "### 44. Write a Python Program to Swap elements in String list"
   ]
  },
  {
   "cell_type": "code",
   "execution_count": 327,
   "id": "1a915fc0",
   "metadata": {},
   "outputs": [
    {
     "name": "stdout",
     "output_type": "stream",
     "text": [
      "Before Swap : ['Tutor', 'joes', 'Computer', 'Education']\n",
      "After Swap :  ['Tutor', \"Joe's\", 'Software', 'Solutions']\n"
     ]
    }
   ],
   "source": [
    "s= [\"Tutor\",\"joes\",\"Computer\",\"Education\"]\n",
    " \n",
    "print(\"Before Swap :\",s)\n",
    " \n",
    "res = [sub.replace(\"joes\",\"Joe's\").replace(\"Computer\", \"Software\").replace(\"Education\", \"Solutions\") for sub in s]\n",
    " \n",
    "print (\"After Swap : \",res)"
   ]
  },
  {
   "cell_type": "markdown",
   "id": "a56405bd",
   "metadata": {},
   "source": [
    "### 45. Write a Python program to reverse All Strings in String List"
   ]
  },
  {
   "cell_type": "code",
   "execution_count": 333,
   "id": "0f50a54c",
   "metadata": {},
   "outputs": [
    {
     "name": "stdout",
     "output_type": "stream",
     "text": [
      "Original list = ['Tutor', 'joes', 'Computer', 'Education']\n",
      "Reversed list = ['rotuT', 'seoj', 'retupmoC', 'noitacudE']\n",
      "Reversed list = ['Education', 'Computer', 'joes', 'Tutor']\n"
     ]
    }
   ],
   "source": [
    "my_list = ['Tutor', 'joes', 'Computer', 'Education']\n",
    "revs=[]\n",
    "\n",
    "for l in my_list:\n",
    "    revs.append(l[::-1])\n",
    "\n",
    "#revs = [s[::-1] for s in my_list]\n",
    "\n",
    "revs_list = list(reversed(my_list))\n",
    "\n",
    "print(\"Original list =\", my_list)\n",
    "print(\"Reversed list =\", revs)\n",
    "print(\"Reversed list =\", revs_list)\n"
   ]
  },
  {
   "cell_type": "markdown",
   "id": "89666c90",
   "metadata": {},
   "source": [
    "### 46. Write a Python program to find the character position of Kth word from a list of strings"
   ]
  },
  {
   "cell_type": "code",
   "execution_count": 350,
   "id": "9660343b",
   "metadata": {},
   "outputs": [
    {
     "name": "stdout",
     "output_type": "stream",
     "text": [
      "Enter K  value : 8\n",
      "['Tutor', 'joes', 'Computer', 'Education']\n",
      "K = 8\n",
      "Index of character at Kth position word: 2\n"
     ]
    }
   ],
   "source": [
    "my_list = ['Tutor', 'joes', 'Computer', 'Education']\n",
    "\n",
    "K = int(input(\"Enter K  value : \"))\n",
    "\n",
    "\n",
    "position = 0\n",
    "index = 0\n",
    "\n",
    "\n",
    "for l in string_list:\n",
    "    position += len(l)\n",
    "    index += 1\n",
    "    if position >= K:\n",
    "        break\n",
    "\n",
    "\n",
    "print(string_list)\n",
    "print(\"K =\", K)\n",
    "print(\"Index of character at Kth position word:\", index)\n"
   ]
  },
  {
   "cell_type": "markdown",
   "id": "7d55bb64",
   "metadata": {},
   "source": [
    "### 47. Write a Python Program to Prefix frequency in string List"
   ]
  },
  {
   "cell_type": "code",
   "execution_count": 356,
   "id": "29172fdc",
   "metadata": {},
   "outputs": [
    {
     "name": "stdout",
     "output_type": "stream",
     "text": [
      "Count the frequency in s_list :  3\n"
     ]
    }
   ],
   "source": [
    "s_list = ['TjC', 'TjCpp', 'TjPython', 'Java']\n",
    "\n",
    "prefix = 'Tj'\n",
    "\n",
    "match = [s for s in s_list  if s.startswith(prefix)]\n",
    "\n",
    "\n",
    "print(\"Count the frequency in s_list : \", len(match))\n",
    "        "
   ]
  },
  {
   "cell_type": "markdown",
   "id": "f86ed3d8",
   "metadata": {},
   "source": [
    "### 48. Write a Python Program to Split Strings on Prefix Occurrence"
   ]
  },
  {
   "cell_type": "code",
   "execution_count": 357,
   "id": "e1044e76",
   "metadata": {},
   "outputs": [
    {
     "name": "stdout",
     "output_type": "stream",
     "text": [
      "Prefix Split List : [['TjC'], ['TjCpp'], ['TjPython', 'Java', 'tj']]\n"
     ]
    }
   ],
   "source": [
    "s_list = [\"TjC\",\"TjCpp\",\"TjPython\",\"Java\",\"tj\"]\n",
    "\n",
    "prefix = \"Tj\"\n",
    " \n",
    "res = []\n",
    "for s in s_list:\n",
    "    if s.startswith(prefix):\n",
    "        res.append([s])\n",
    "    else:\n",
    "        res[-1].append(s)\n",
    "\n",
    "print(\"Prefix Split List : \" + str(res))"
   ]
  },
  {
   "cell_type": "markdown",
   "id": "9362d55f",
   "metadata": {},
   "source": [
    "### 49. Write a Python program to Replace all Characters of a List Except the given character"
   ]
  },
  {
   "cell_type": "code",
   "execution_count": 358,
   "id": "d04fd655",
   "metadata": {},
   "outputs": [
    {
     "name": "stdout",
     "output_type": "stream",
     "text": [
      "['@', '@', ['T'], '@', '@', '@']\n"
     ]
    }
   ],
   "source": [
    "c_list = ['P','Y','T','H','O','N']\n",
    "res=[]\n",
    "for c in c_list:\n",
    "    if c == 'T':\n",
    "        res.append([c])\n",
    "    else:\n",
    "        res.append('@')\n",
    "\n",
    "print(res)"
   ]
  },
  {
   "cell_type": "markdown",
   "id": "d5fe763b",
   "metadata": {},
   "source": [
    "### 50. Write a Python Program to Add Space between Potential Words"
   ]
  },
  {
   "cell_type": "code",
   "execution_count": null,
   "id": "21f19d87",
   "metadata": {},
   "outputs": [],
   "source": [
    "\n"
   ]
  },
  {
   "cell_type": "code",
   "execution_count": null,
   "id": "10380167",
   "metadata": {},
   "outputs": [],
   "source": []
  }
 ],
 "metadata": {
  "kernelspec": {
   "display_name": "Python 3 (ipykernel)",
   "language": "python",
   "name": "python3"
  },
  "language_info": {
   "codemirror_mode": {
    "name": "ipython",
    "version": 3
   },
   "file_extension": ".py",
   "mimetype": "text/x-python",
   "name": "python",
   "nbconvert_exporter": "python",
   "pygments_lexer": "ipython3",
   "version": "3.11.4"
  }
 },
 "nbformat": 4,
 "nbformat_minor": 5
}
